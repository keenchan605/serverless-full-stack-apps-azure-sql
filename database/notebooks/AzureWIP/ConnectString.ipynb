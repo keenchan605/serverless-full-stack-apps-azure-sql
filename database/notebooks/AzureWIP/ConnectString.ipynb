{
    "metadata": {
        "kernelspec": {
            "name": "SQL",
            "display_name": "SQL",
            "language": "sql"
        },
        "language_info": {
            "name": "sql",
            "version": ""
        }
    },
    "nbformat_minor": 2,
    "nbformat": 4,
    "cells": [
        {
            "cell_type": "markdown",
            "source": [
                "<span style=\"color: rgb(22, 22, 22); font-family: SFMono-Regular, Consolas, &quot;Liberation Mono&quot;, Menlo, Courier, monospace; font-size: 13.6px; background-color: rgb(230, 230, 230);\">Server=bus-server595579.database.windows.net,1433;Initial Catalog=bus-db;User Id=cloudadmin;Password=4321PL&lt;M;Connection Timeout=30;</span>"
            ],
            "metadata": {
                "azdata_cell_guid": "ad9a59f4-2ed1-4ecc-aa6c-9afced2ce3aa"
            },
            "attachments": {}
        }
    ]
}